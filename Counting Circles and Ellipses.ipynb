{
 "cells": [
  {
   "cell_type": "code",
   "execution_count": 1,
   "metadata": {},
   "outputs": [],
   "source": [
    "import cv2\n",
    "import numpy as np\n",
    "\n",
    "image = cv2.imread(\"../Images/circle.png\")\n",
    "cv2.imshow(\"original\", image)\n",
    "cv2.waitKey(0)\n",
    "\n",
    "detector = cv2.SimpleBlobDetector_create()\n",
    "keypoints = detector.detect(image)\n",
    "blank = np.zeros((1,1))\n",
    "blobs = cv2.drawKeypoints(image, keypoints, blank, (0,255,255),\n",
    "                         cv2.DRAW_MATCHES_FLAGS_DEFAULT)\n",
    "\n",
    "number_of_blobs = len(keypoints)\n",
    "text = \"Total number of blobs\" + str(number_of_blobs)\n",
    "cv2.putText(blobs, text, (20,550), cv2.FONT_HERSHEY_COMPLEX, 1, (100,0,255), 2)\n",
    "cv2.imshow(\"blob using default\", blobs)\n",
    "cv2.waitKey(0)\n",
    "\n",
    "# set out filtering parameter\n",
    "params = cv2.SimpleBlobDetector_Params()\n",
    "\n",
    "params.filterByArea = True\n",
    "params.minArea = 100\n",
    "\n",
    "params.filterByCircularity = True\n",
    "params.minCircularity = 0.9\n",
    "\n",
    "params.filterByConvexity = False\n",
    "params.minConvexity =  0.2\n",
    "\n",
    "params.filterByInertia = True\n",
    "params.minInertiaRatio = 0.01\n",
    "\n",
    "detector = cv2.SimpleBlobDetector_create(params)\n",
    "\n",
    "keypoints = detector.detect(image)\n",
    "blank = np.zeros((1,1))\n",
    "blobs = cv2.drawKeypoints(image, keypoints, blank, (0,255,255),\n",
    "                         cv2.DRAW_MATCHES_FLAGS_DEFAULT)\n",
    "\n",
    "\n",
    "number_of_blobs = len(keypoints)\n",
    "text = \"Total number of circuluar blobs\" + str(number_of_blobs)\n",
    "cv2.putText(blobs, text, (20,550), cv2.FONT_HERSHEY_COMPLEX, 1, (100,0,255), 2)\n",
    "cv2.imshow(\"circular blobs\", blobs)\n",
    "cv2.waitKey(0)\n",
    "cv2.destroyAllWindows()"
   ]
  },
  {
   "cell_type": "code",
   "execution_count": null,
   "metadata": {},
   "outputs": [],
   "source": []
  }
 ],
 "metadata": {
  "kernelspec": {
   "display_name": "Python 3",
   "language": "python",
   "name": "python3"
  },
  "language_info": {
   "codemirror_mode": {
    "name": "ipython",
    "version": 3
   },
   "file_extension": ".py",
   "mimetype": "text/x-python",
   "name": "python",
   "nbconvert_exporter": "python",
   "pygments_lexer": "ipython3",
   "version": "3.7.4"
  }
 },
 "nbformat": 4,
 "nbformat_minor": 4
}
